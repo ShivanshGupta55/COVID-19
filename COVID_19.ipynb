{
  "nbformat": 4,
  "nbformat_minor": 0,
  "metadata": {
    "colab": {
      "name": "COVID-19.ipynb",
      "provenance": [],
      "authorship_tag": "ABX9TyMKF08ojZSBkrLxHm0gHCkz",
      "include_colab_link": true
    },
    "kernelspec": {
      "name": "python3",
      "display_name": "Python 3"
    },
    "accelerator": "GPU"
  },
  "cells": [
    {
      "cell_type": "markdown",
      "metadata": {
        "id": "view-in-github",
        "colab_type": "text"
      },
      "source": [
        "<a href=\"https://colab.research.google.com/github/ShivanshGupta55/COVID-19/blob/master/COVID_19.ipynb\" target=\"_parent\"><img src=\"https://colab.research.google.com/assets/colab-badge.svg\" alt=\"Open In Colab\"/></a>"
      ]
    },
    {
      "cell_type": "code",
      "metadata": {
        "id": "iZzo3m4sT153",
        "colab_type": "code",
        "colab": {}
      },
      "source": [
        "import numpy as np\n",
        "import pandas as pd\n",
        "train_df = pd.read_csv('/content/Train_dataset.csv')\n",
        "test_df = pd.read_csv('/content/Test_dataset.csv')"
      ],
      "execution_count": 0,
      "outputs": []
    },
    {
      "cell_type": "code",
      "metadata": {
        "id": "-DqUHhD_JI4w",
        "colab_type": "code",
        "outputId": "1cecfa41-afb1-42b4-922c-30bf04de27e6",
        "colab": {
          "base_uri": "https://localhost:8080/",
          "height": 105
        }
      },
      "source": [
        "#check the numbers of samples and features\n",
        "print(\"The train data size before dropping Id feature is : {} \".format(train_df.shape))\n",
        "print(\"The test data size before dropping Id feature is : {} \".format(test_df.shape))\n",
        "\n",
        "#Save the 'Id' column\n",
        "train_ID = train_df['people_ID']\n",
        "test_ID = test_df['people_ID']\n",
        "\n",
        "#Now drop the  'Id' colum since it's unnecessary for  the prediction process.\n",
        "train_df.drop(\"people_ID\", axis = 1, inplace = True)\n",
        "test_df.drop(\"people_ID\", axis = 1, inplace = True)\n",
        "\n",
        "#check again the data size after dropping the 'Id' variable\n",
        "print(\"\\nThe train data size after dropping Id feature is : {} \".format(train_df.shape)) \n",
        "print(\"The test data size after dropping Id feature is : {} \".format(test_df.shape))\n"
      ],
      "execution_count": 2,
      "outputs": [
        {
          "output_type": "stream",
          "text": [
            "The train data size before dropping Id feature is : (10714, 28) \n",
            "The test data size before dropping Id feature is : (14498, 27) \n",
            "\n",
            "The train data size after dropping Id feature is : (10714, 27) \n",
            "The test data size after dropping Id feature is : (14498, 26) \n"
          ],
          "name": "stdout"
        }
      ]
    },
    {
      "cell_type": "code",
      "metadata": {
        "id": "_69wmyXLPU60",
        "colab_type": "code",
        "outputId": "8e6cd7c3-74cb-4bad-86c6-a62b139401c8",
        "colab": {
          "base_uri": "https://localhost:8080/",
          "height": 474
        }
      },
      "source": [
        "train_df.drop(['Name','Designation'], axis=1, inplace=True)\n",
        "test_df.drop(['Name','Designation'], axis=1, inplace=True)\n",
        "train_df.isnull().sum()"
      ],
      "execution_count": 3,
      "outputs": [
        {
          "output_type": "execute_result",
          "data": {
            "text/plain": [
              "Region                       0\n",
              "Gender                       0\n",
              "Married                      0\n",
              "Children                   311\n",
              "Occupation                 747\n",
              "Mode_transport               3\n",
              "cases/1M                     0\n",
              "Deaths/1M                    0\n",
              "comorbidity                226\n",
              "Age                          0\n",
              "Coma score                   0\n",
              "Pulmonary score              0\n",
              "cardiological pressure      97\n",
              "Diuresis                   716\n",
              "Platelets                  924\n",
              "HBB                         16\n",
              "d-dimer                   1114\n",
              "Heart rate                1114\n",
              "HDL cholesterol             35\n",
              "Charlson Index               0\n",
              "Blood Glucose                0\n",
              "Insurance                 1090\n",
              "salary                       0\n",
              "FT/month                   723\n",
              "Infect_Prob                  0\n",
              "dtype: int64"
            ]
          },
          "metadata": {
            "tags": []
          },
          "execution_count": 3
        }
      ]
    },
    {
      "cell_type": "code",
      "metadata": {
        "id": "CszEAWKw08M6",
        "colab_type": "code",
        "colab": {}
      },
      "source": [
        "train_df['Pulmonary_score'] = train_df['Pulmonary score'].str.replace('([<]+)', '')\n",
        "test_df['Pulmonary_score'] = test_df['Pulmonary score'].str.replace('([<]+)', '')\n"
      ],
      "execution_count": 0,
      "outputs": []
    },
    {
      "cell_type": "code",
      "metadata": {
        "id": "4r_k_tR11IMo",
        "colab_type": "code",
        "colab": {}
      },
      "source": [
        "train_df.drop('Pulmonary score', axis=1, inplace= True)\n",
        "test_df.drop('Pulmonary score', axis=1, inplace= True)"
      ],
      "execution_count": 0,
      "outputs": []
    },
    {
      "cell_type": "code",
      "metadata": {
        "id": "Xy8j1wrZK2td",
        "colab_type": "code",
        "outputId": "f0510544-7c36-4cd7-9761-72bdaa4b394e",
        "colab": {
          "base_uri": "https://localhost:8080/",
          "height": 624
        }
      },
      "source": [
        "#Correlation map to see how features are correlated\n",
        "import matplotlib.pyplot as plt\n",
        "import seaborn as sns\n",
        "corrmat = train_df.corr()\n",
        "plt.subplots(figsize=(12,9))\n",
        "sns.heatmap(corrmat, vmax=0.9, square=True)"
      ],
      "execution_count": 6,
      "outputs": [
        {
          "output_type": "execute_result",
          "data": {
            "text/plain": [
              "<matplotlib.axes._subplots.AxesSubplot at 0x7f728eea6f98>"
            ]
          },
          "metadata": {
            "tags": []
          },
          "execution_count": 6
        },
        {
          "output_type": "display_data",
          "data": {
            "image/png": "[encoded data removed]",
            "text/plain": [
              "<Figure size 864x648 with 2 Axes>"
            ]
          },
          "metadata": {
            "tags": []
          }
        }
      ]
    },
    {
      "cell_type": "code",
      "metadata": {
        "id": "2KBUaDWrK2-Z",
        "colab_type": "code",
        "outputId": "f9ddae35-3aa5-4caa-d2d0-e762162a17aa",
        "colab": {
          "base_uri": "https://localhost:8080/",
          "height": 195
        }
      },
      "source": [
        "ntrain = train_df.shape[0]\n",
        "ntest = test_df.shape[0]\n",
        "y_train = train_df.Infect_Prob.values\n",
        "all_data = pd.concat((train_df, test_df)).reset_index(drop=True)\n",
        "all_data.drop(['Infect_Prob'], axis=1, inplace=True)\n",
        "print(\"all_data size is : {}\".format(all_data.shape))"
      ],
      "execution_count": 7,
      "outputs": [
        {
          "output_type": "stream",
          "text": [
            "all_data size is : (25212, 24)\n"
          ],
          "name": "stdout"
        },
        {
          "output_type": "stream",
          "text": [
            "/usr/local/lib/python3.6/dist-packages/ipykernel_launcher.py:4: FutureWarning: Sorting because non-concatenation axis is not aligned. A future version\n",
            "of pandas will change to not sort by default.\n",
            "\n",
            "To accept the future behavior, pass 'sort=False'.\n",
            "\n",
            "To retain the current behavior and silence the warning, pass 'sort=True'.\n",
            "\n",
            "  after removing the cwd from sys.path.\n"
          ],
          "name": "stderr"
        }
      ]
    },
    {
      "cell_type": "code",
      "metadata": {
        "id": "z7C9ENGP3D95",
        "colab_type": "code",
        "colab": {
          "base_uri": "https://localhost:8080/",
          "height": 266
        },
        "outputId": "26d0d7c9-a066-4c84-c239-33c83e21e6e0"
      },
      "source": [
        "all_data.head()"
      ],
      "execution_count": 8,
      "outputs": [
        {
          "output_type": "execute_result",
          "data": {
            "text/html": [
              "<div>\n",
              "<style scoped>\n",
              "    .dataframe tbody tr th:only-of-type {\n",
              "        vertical-align: middle;\n",
              "    }\n",
              "\n",
              "    .dataframe tbody tr th {\n",
              "        vertical-align: top;\n",
              "    }\n",
              "\n",
              "    .dataframe thead th {\n",
              "        text-align: right;\n",
              "    }\n",
              "</style>\n",
              "<table border=\"1\" class=\"dataframe\">\n",
              "  <thead>\n",
              "    <tr style=\"text-align: right;\">\n",
              "      <th></th>\n",
              "      <th>Age</th>\n",
              "      <th>Blood Glucose</th>\n",
              "      <th>Charlson Index</th>\n",
              "      <th>Children</th>\n",
              "      <th>Coma score</th>\n",
              "      <th>Deaths/1M</th>\n",
              "      <th>Diuresis</th>\n",
              "      <th>FT/month</th>\n",
              "      <th>Gender</th>\n",
              "      <th>HBB</th>\n",
              "      <th>HDL cholesterol</th>\n",
              "      <th>Heart rate</th>\n",
              "      <th>Insurance</th>\n",
              "      <th>Married</th>\n",
              "      <th>Mode_transport</th>\n",
              "      <th>Occupation</th>\n",
              "      <th>Platelets</th>\n",
              "      <th>Pulmonary_score</th>\n",
              "      <th>Region</th>\n",
              "      <th>cardiological pressure</th>\n",
              "      <th>cases/1M</th>\n",
              "      <th>comorbidity</th>\n",
              "      <th>d-dimer</th>\n",
              "      <th>salary</th>\n",
              "    </tr>\n",
              "  </thead>\n",
              "  <tbody>\n",
              "    <tr>\n",
              "      <th>0</th>\n",
              "      <td>68</td>\n",
              "      <td>7</td>\n",
              "      <td>27</td>\n",
              "      <td>1.0</td>\n",
              "      <td>8</td>\n",
              "      <td>0</td>\n",
              "      <td>441.0</td>\n",
              "      <td>2.0</td>\n",
              "      <td>Female</td>\n",
              "      <td>93.0</td>\n",
              "      <td>58.0</td>\n",
              "      <td>82.0</td>\n",
              "      <td>3600000.0</td>\n",
              "      <td>YES</td>\n",
              "      <td>Public</td>\n",
              "      <td>Farmer</td>\n",
              "      <td>154.0</td>\n",
              "      <td>400</td>\n",
              "      <td>Bhubaneshwar</td>\n",
              "      <td>Normal</td>\n",
              "      <td>2</td>\n",
              "      <td>Hypertension</td>\n",
              "      <td>233.0</td>\n",
              "      <td>1300000</td>\n",
              "    </tr>\n",
              "    <tr>\n",
              "      <th>1</th>\n",
              "      <td>64</td>\n",
              "      <td>6</td>\n",
              "      <td>5</td>\n",
              "      <td>2.0</td>\n",
              "      <td>15</td>\n",
              "      <td>0</td>\n",
              "      <td>NaN</td>\n",
              "      <td>1.0</td>\n",
              "      <td>Female</td>\n",
              "      <td>56.0</td>\n",
              "      <td>68.0</td>\n",
              "      <td>89.0</td>\n",
              "      <td>1600000.0</td>\n",
              "      <td>YES</td>\n",
              "      <td>Walk</td>\n",
              "      <td>Farmer</td>\n",
              "      <td>121.0</td>\n",
              "      <td>100</td>\n",
              "      <td>Bhubaneshwar</td>\n",
              "      <td>Stage-02</td>\n",
              "      <td>2</td>\n",
              "      <td>Diabetes</td>\n",
              "      <td>328.0</td>\n",
              "      <td>400000</td>\n",
              "    </tr>\n",
              "    <tr>\n",
              "      <th>2</th>\n",
              "      <td>19</td>\n",
              "      <td>6</td>\n",
              "      <td>40</td>\n",
              "      <td>1.0</td>\n",
              "      <td>13</td>\n",
              "      <td>0</td>\n",
              "      <td>416.0</td>\n",
              "      <td>1.0</td>\n",
              "      <td>Female</td>\n",
              "      <td>137.0</td>\n",
              "      <td>43.0</td>\n",
              "      <td>77.0</td>\n",
              "      <td>3400000.0</td>\n",
              "      <td>NO</td>\n",
              "      <td>Public</td>\n",
              "      <td>Cleaner</td>\n",
              "      <td>124.0</td>\n",
              "      <td>300</td>\n",
              "      <td>Bhubaneshwar</td>\n",
              "      <td>Elevated</td>\n",
              "      <td>2</td>\n",
              "      <td>None</td>\n",
              "      <td>213.0</td>\n",
              "      <td>900000</td>\n",
              "    </tr>\n",
              "    <tr>\n",
              "      <th>3</th>\n",
              "      <td>33</td>\n",
              "      <td>7</td>\n",
              "      <td>27</td>\n",
              "      <td>1.0</td>\n",
              "      <td>9</td>\n",
              "      <td>0</td>\n",
              "      <td>410.0</td>\n",
              "      <td>1.0</td>\n",
              "      <td>Female</td>\n",
              "      <td>167.0</td>\n",
              "      <td>60.0</td>\n",
              "      <td>64.0</td>\n",
              "      <td>700000.0</td>\n",
              "      <td>YES</td>\n",
              "      <td>Car</td>\n",
              "      <td>Driver</td>\n",
              "      <td>98.0</td>\n",
              "      <td>200</td>\n",
              "      <td>Bhubaneshwar</td>\n",
              "      <td>Stage-01</td>\n",
              "      <td>2</td>\n",
              "      <td>Coronary Heart Disease</td>\n",
              "      <td>275.0</td>\n",
              "      <td>2300000</td>\n",
              "    </tr>\n",
              "    <tr>\n",
              "      <th>4</th>\n",
              "      <td>23</td>\n",
              "      <td>7</td>\n",
              "      <td>32</td>\n",
              "      <td>2.0</td>\n",
              "      <td>7</td>\n",
              "      <td>0</td>\n",
              "      <td>390.0</td>\n",
              "      <td>1.0</td>\n",
              "      <td>Female</td>\n",
              "      <td>153.0</td>\n",
              "      <td>64.0</td>\n",
              "      <td>71.0</td>\n",
              "      <td>3200000.0</td>\n",
              "      <td>NO</td>\n",
              "      <td>Car</td>\n",
              "      <td>Manufacturing</td>\n",
              "      <td>21.0</td>\n",
              "      <td>400</td>\n",
              "      <td>Bhubaneshwar</td>\n",
              "      <td>Normal</td>\n",
              "      <td>2</td>\n",
              "      <td>Diabetes</td>\n",
              "      <td>331.0</td>\n",
              "      <td>1100000</td>\n",
              "    </tr>\n",
              "  </tbody>\n",
              "</table>\n",
              "</div>"
            ],
            "text/plain": [
              "   Age  Blood Glucose  Charlson Index  ...             comorbidity  d-dimer   salary\n",
              "0   68              7              27  ...            Hypertension    233.0  1300000\n",
              "1   64              6               5  ...                Diabetes    328.0   400000\n",
              "2   19              6              40  ...                    None    213.0   900000\n",
              "3   33              7              27  ...  Coronary Heart Disease    275.0  2300000\n",
              "4   23              7              32  ...                Diabetes    331.0  1100000\n",
              "\n",
              "[5 rows x 24 columns]"
            ]
          },
          "metadata": {
            "tags": []
          },
          "execution_count": 8
        }
      ]
    },
    {
      "cell_type": "code",
      "metadata": {
        "id": "xOdNIemFK3IN",
        "colab_type": "code",
        "colab": {}
      },
      "source": [
        "all_data[\"Children\"] = all_data.groupby(\"Married\")[\"Children\"].transform(lambda x: x.fillna(x.median()))"
      ],
      "execution_count": 0,
      "outputs": []
    },
    {
      "cell_type": "code",
      "metadata": {
        "id": "qwJ3ca98Okqa",
        "colab_type": "code",
        "colab": {}
      },
      "source": [
        "all_data[\"Occupation\"] = all_data[\"Occupation\"].fillna('None')"
      ],
      "execution_count": 0,
      "outputs": []
    },
    {
      "cell_type": "code",
      "metadata": {
        "id": "tZ0s19MjK3Zn",
        "colab_type": "code",
        "colab": {}
      },
      "source": [
        "all_data[\"FT/month\"] = all_data.groupby([\"salary\",\"Occupation\"])[\"FT/month\"].transform(lambda x: x.fillna(x.median()))"
      ],
      "execution_count": 0,
      "outputs": []
    },
    {
      "cell_type": "code",
      "metadata": {
        "id": "jlTwbgvjK3hj",
        "colab_type": "code",
        "colab": {}
      },
      "source": [
        "all_data[\"comorbidity\"] = all_data[\"comorbidity\"].fillna('None')"
      ],
      "execution_count": 0,
      "outputs": []
    },
    {
      "cell_type": "code",
      "metadata": {
        "id": "W-HnxwLuK3pU",
        "colab_type": "code",
        "colab": {}
      },
      "source": [
        "all_data[\"Insurance\"] = all_data.groupby(\"salary\")[\"Insurance\"].transform(lambda x: x.fillna(x.mean()))"
      ],
      "execution_count": 0,
      "outputs": []
    },
    {
      "cell_type": "code",
      "metadata": {
        "id": "oF10ooGbK3yI",
        "colab_type": "code",
        "colab": {}
      },
      "source": [
        "all_data[\"Heart rate\"] = all_data.groupby([\"Age\",\"comorbidity\"])[\"Heart rate\"].transform(lambda x: x.fillna(x.mean()))"
      ],
      "execution_count": 0,
      "outputs": []
    },
    {
      "cell_type": "code",
      "metadata": {
        "id": "E9-FhmkhPdXz",
        "colab_type": "code",
        "colab": {}
      },
      "source": [
        "df_categorical = all_data[['Gender', 'Occupation','comorbidity','cardiological pressure', 'Mode_transport']]"
      ],
      "execution_count": 0,
      "outputs": []
    },
    {
      "cell_type": "code",
      "metadata": {
        "id": "88W3m4b3Pdd3",
        "colab_type": "code",
        "outputId": "4e568972-3f2e-414f-d9b1-4f9a7482119c",
        "colab": {
          "base_uri": "https://localhost:8080/",
          "height": 195
        }
      },
      "source": [
        "df_categorical.apply(lambda x : pd.factorize(x)[0]).corr(method='pearson', min_periods=1)\n"
      ],
      "execution_count": 16,
      "outputs": [
        {
          "output_type": "execute_result",
          "data": {
            "text/html": [
              "<div>\n",
              "<style scoped>\n",
              "    .dataframe tbody tr th:only-of-type {\n",
              "        vertical-align: middle;\n",
              "    }\n",
              "\n",
              "    .dataframe tbody tr th {\n",
              "        vertical-align: top;\n",
              "    }\n",
              "\n",
              "    .dataframe thead th {\n",
              "        text-align: right;\n",
              "    }\n",
              "</style>\n",
              "<table border=\"1\" class=\"dataframe\">\n",
              "  <thead>\n",
              "    <tr style=\"text-align: right;\">\n",
              "      <th></th>\n",
              "      <th>Gender</th>\n",
              "      <th>Occupation</th>\n",
              "      <th>comorbidity</th>\n",
              "      <th>cardiological pressure</th>\n",
              "      <th>Mode_transport</th>\n",
              "    </tr>\n",
              "  </thead>\n",
              "  <tbody>\n",
              "    <tr>\n",
              "      <th>Gender</th>\n",
              "      <td>1.000000</td>\n",
              "      <td>0.001120</td>\n",
              "      <td>-0.000153</td>\n",
              "      <td>-0.006163</td>\n",
              "      <td>0.004597</td>\n",
              "    </tr>\n",
              "    <tr>\n",
              "      <th>Occupation</th>\n",
              "      <td>0.001120</td>\n",
              "      <td>1.000000</td>\n",
              "      <td>0.007328</td>\n",
              "      <td>-0.000355</td>\n",
              "      <td>-0.003536</td>\n",
              "    </tr>\n",
              "    <tr>\n",
              "      <th>comorbidity</th>\n",
              "      <td>-0.000153</td>\n",
              "      <td>0.007328</td>\n",
              "      <td>1.000000</td>\n",
              "      <td>-0.002460</td>\n",
              "      <td>0.011137</td>\n",
              "    </tr>\n",
              "    <tr>\n",
              "      <th>cardiological pressure</th>\n",
              "      <td>-0.006163</td>\n",
              "      <td>-0.000355</td>\n",
              "      <td>-0.002460</td>\n",
              "      <td>1.000000</td>\n",
              "      <td>0.004720</td>\n",
              "    </tr>\n",
              "    <tr>\n",
              "      <th>Mode_transport</th>\n",
              "      <td>0.004597</td>\n",
              "      <td>-0.003536</td>\n",
              "      <td>0.011137</td>\n",
              "      <td>0.004720</td>\n",
              "      <td>1.000000</td>\n",
              "    </tr>\n",
              "  </tbody>\n",
              "</table>\n",
              "</div>"
            ],
            "text/plain": [
              "                          Gender  ...  Mode_transport\n",
              "Gender                  1.000000  ...        0.004597\n",
              "Occupation              0.001120  ...       -0.003536\n",
              "comorbidity            -0.000153  ...        0.011137\n",
              "cardiological pressure -0.006163  ...        0.004720\n",
              "Mode_transport          0.004597  ...        1.000000\n",
              "\n",
              "[5 rows x 5 columns]"
            ]
          },
          "metadata": {
            "tags": []
          },
          "execution_count": 16
        }
      ]
    },
    {
      "cell_type": "code",
      "metadata": {
        "id": "XHUT1VgHK344",
        "colab_type": "code",
        "colab": {}
      },
      "source": [
        "all_data[\"cardiological pressure\"].fillna(all_data[\"cardiological pressure\"].mode()[0], inplace=True)\n",
        "all_data[\"Mode_transport\"].fillna(all_data[\"Mode_transport\"].mode()[0], inplace=True)\n"
      ],
      "execution_count": 0,
      "outputs": []
    },
    {
      "cell_type": "code",
      "metadata": {
        "id": "rh6z1LZpTQOM",
        "colab_type": "code",
        "colab": {}
      },
      "source": [
        "all_data[\"Diuresis\"] = all_data.groupby([\"Gender\",\"comorbidity\"])[\"Diuresis\"].transform(lambda x: x.fillna(x.mean()))"
      ],
      "execution_count": 0,
      "outputs": []
    },
    {
      "cell_type": "code",
      "metadata": {
        "id": "d2zHcNqgTRm6",
        "colab_type": "code",
        "colab": {}
      },
      "source": [
        "all_data[\"Platelets\"] = all_data.groupby([\"Age\",\"comorbidity\"])[\"Platelets\"].transform(lambda x: x.fillna(x.mean()))"
      ],
      "execution_count": 0,
      "outputs": []
    },
    {
      "cell_type": "code",
      "metadata": {
        "id": "rIDgUY0iTRsB",
        "colab_type": "code",
        "colab": {}
      },
      "source": [
        "all_data[\"HBB\"] = all_data.groupby([\"Age\",\"Gender\"])[\"HBB\"].transform(lambda x: x.fillna(x.mean()))"
      ],
      "execution_count": 0,
      "outputs": []
    },
    {
      "cell_type": "code",
      "metadata": {
        "id": "m0_DBRTWTQKq",
        "colab_type": "code",
        "colab": {}
      },
      "source": [
        "all_data[\"d-dimer\"] = all_data.groupby([\"Gender\",\"comorbidity\"])[\"d-dimer\"].transform(lambda x: x.fillna(x.mean()))"
      ],
      "execution_count": 0,
      "outputs": []
    },
    {
      "cell_type": "code",
      "metadata": {
        "id": "dADvwt8tAE6p",
        "colab_type": "code",
        "colab": {}
      },
      "source": [
        "all_data[\"HDL cholesterol\"] = all_data.groupby([\"Gender\",\"comorbidity\"])[\"HDL cholesterol\"].transform(lambda x: x.fillna(x.mean()))"
      ],
      "execution_count": 0,
      "outputs": []
    },
    {
      "cell_type": "code",
      "metadata": {
        "id": "rT61ea5IAijg",
        "colab_type": "code",
        "colab": {}
      },
      "source": [
        "train = all_data[:ntrain]\n",
        "test = all_data[ntrain:]"
      ],
      "execution_count": 0,
      "outputs": []
    },
    {
      "cell_type": "code",
      "metadata": {
        "id": "cZmPI19ja6ph",
        "colab_type": "code",
        "outputId": "aead21cb-9b30-4a64-842f-0a3af52e67d5",
        "colab": {
          "base_uri": "https://localhost:8080/",
          "height": 34
        }
      },
      "source": [
        "\n",
        "train = pd.get_dummies(train)\n",
        "print(train.shape)"
      ],
      "execution_count": 24,
      "outputs": [
        {
          "output_type": "stream",
          "text": [
            "(10714, 50)\n"
          ],
          "name": "stdout"
        }
      ]
    },
    {
      "cell_type": "code",
      "metadata": {
        "id": "tSw1mOuvAq6u",
        "colab_type": "code",
        "colab": {}
      },
      "source": [
        "from sklearn.linear_model import ElasticNet, Lasso,  LinearRegression\n",
        "from sklearn.tree import DecisionTreeRegressor\n",
        "from sklearn.ensemble import RandomForestRegressor,  GradientBoostingRegressor\n",
        "from sklearn.pipeline import make_pipeline\n",
        "from sklearn.model_selection import KFold, cross_val_score, train_test_split\n",
        "from sklearn.metrics import mean_squared_error, r2_score\n",
        "from sklearn.preprocessing import StandardScaler\n",
        "import xgboost as xgb\n",
        "import lightgbm as lgb"
      ],
      "execution_count": 0,
      "outputs": []
    },
    {
      "cell_type": "code",
      "metadata": {
        "id": "5F2EE1ylR45f",
        "colab_type": "code",
        "colab": {}
      },
      "source": [
        "X = np.array(train)\n",
        "\n",
        "X = StandardScaler().fit(X).transform(X)"
      ],
      "execution_count": 0,
      "outputs": []
    },
    {
      "cell_type": "code",
      "metadata": {
        "id": "Y2Bc2db3DQi9",
        "colab_type": "code",
        "colab": {
          "base_uri": "https://localhost:8080/",
          "height": 249
        },
        "outputId": "ac484c8e-a8a7-4233-9c86-0bc680e60059"
      },
      "source": [
        "train.head()"
      ],
      "execution_count": 27,
      "outputs": [
        {
          "output_type": "execute_result",
          "data": {
            "text/html": [
              "<div>\n",
              "<style scoped>\n",
              "    .dataframe tbody tr th:only-of-type {\n",
              "        vertical-align: middle;\n",
              "    }\n",
              "\n",
              "    .dataframe tbody tr th {\n",
              "        vertical-align: top;\n",
              "    }\n",
              "\n",
              "    .dataframe thead th {\n",
              "        text-align: right;\n",
              "    }\n",
              "</style>\n",
              "<table border=\"1\" class=\"dataframe\">\n",
              "  <thead>\n",
              "    <tr style=\"text-align: right;\">\n",
              "      <th></th>\n",
              "      <th>Age</th>\n",
              "      <th>Blood Glucose</th>\n",
              "      <th>Charlson Index</th>\n",
              "      <th>Children</th>\n",
              "      <th>Coma score</th>\n",
              "      <th>Deaths/1M</th>\n",
              "      <th>Diuresis</th>\n",
              "      <th>FT/month</th>\n",
              "      <th>HBB</th>\n",
              "      <th>HDL cholesterol</th>\n",
              "      <th>Heart rate</th>\n",
              "      <th>Insurance</th>\n",
              "      <th>Platelets</th>\n",
              "      <th>cases/1M</th>\n",
              "      <th>d-dimer</th>\n",
              "      <th>salary</th>\n",
              "      <th>Gender_Female</th>\n",
              "      <th>Gender_Male</th>\n",
              "      <th>Married_NO</th>\n",
              "      <th>Married_YES</th>\n",
              "      <th>Mode_transport_Car</th>\n",
              "      <th>Mode_transport_Public</th>\n",
              "      <th>Mode_transport_Walk</th>\n",
              "      <th>Occupation_Business</th>\n",
              "      <th>Occupation_Cleaner</th>\n",
              "      <th>Occupation_Clerk</th>\n",
              "      <th>Occupation_Driver</th>\n",
              "      <th>Occupation_Farmer</th>\n",
              "      <th>Occupation_Legal</th>\n",
              "      <th>Occupation_Manufacturing</th>\n",
              "      <th>Occupation_None</th>\n",
              "      <th>Occupation_Researcher</th>\n",
              "      <th>Occupation_Sales</th>\n",
              "      <th>Pulmonary_score_100</th>\n",
              "      <th>Pulmonary_score_200</th>\n",
              "      <th>Pulmonary_score_300</th>\n",
              "      <th>Pulmonary_score_400</th>\n",
              "      <th>Region_Bengaluru</th>\n",
              "      <th>Region_Bhubaneshwar</th>\n",
              "      <th>Region_Chandigarh</th>\n",
              "      <th>Region_Chennai</th>\n",
              "      <th>Region_Delhi</th>\n",
              "      <th>cardiological pressure_Elevated</th>\n",
              "      <th>cardiological pressure_Normal</th>\n",
              "      <th>cardiological pressure_Stage-01</th>\n",
              "      <th>cardiological pressure_Stage-02</th>\n",
              "      <th>comorbidity_Coronary Heart Disease</th>\n",
              "      <th>comorbidity_Diabetes</th>\n",
              "      <th>comorbidity_Hypertension</th>\n",
              "      <th>comorbidity_None</th>\n",
              "    </tr>\n",
              "  </thead>\n",
              "  <tbody>\n",
              "    <tr>\n",
              "      <th>0</th>\n",
              "      <td>68</td>\n",
              "      <td>7</td>\n",
              "      <td>27</td>\n",
              "      <td>1.0</td>\n",
              "      <td>8</td>\n",
              "      <td>0</td>\n",
              "      <td>441.000000</td>\n",
              "      <td>2.0</td>\n",
              "      <td>93.0</td>\n",
              "      <td>58.0</td>\n",
              "      <td>82.0</td>\n",
              "      <td>3600000.0</td>\n",
              "      <td>154.0</td>\n",
              "      <td>2</td>\n",
              "      <td>233.0</td>\n",
              "      <td>1300000</td>\n",
              "      <td>1</td>\n",
              "      <td>0</td>\n",
              "      <td>0</td>\n",
              "      <td>1</td>\n",
              "      <td>0</td>\n",
              "      <td>1</td>\n",
              "      <td>0</td>\n",
              "      <td>0</td>\n",
              "      <td>0</td>\n",
              "      <td>0</td>\n",
              "      <td>0</td>\n",
              "      <td>1</td>\n",
              "      <td>0</td>\n",
              "      <td>0</td>\n",
              "      <td>0</td>\n",
              "      <td>0</td>\n",
              "      <td>0</td>\n",
              "      <td>0</td>\n",
              "      <td>0</td>\n",
              "      <td>0</td>\n",
              "      <td>1</td>\n",
              "      <td>0</td>\n",
              "      <td>1</td>\n",
              "      <td>0</td>\n",
              "      <td>0</td>\n",
              "      <td>0</td>\n",
              "      <td>0</td>\n",
              "      <td>1</td>\n",
              "      <td>0</td>\n",
              "      <td>0</td>\n",
              "      <td>0</td>\n",
              "      <td>0</td>\n",
              "      <td>1</td>\n",
              "      <td>0</td>\n",
              "    </tr>\n",
              "    <tr>\n",
              "      <th>1</th>\n",
              "      <td>64</td>\n",
              "      <td>6</td>\n",
              "      <td>5</td>\n",
              "      <td>2.0</td>\n",
              "      <td>15</td>\n",
              "      <td>0</td>\n",
              "      <td>281.173801</td>\n",
              "      <td>1.0</td>\n",
              "      <td>56.0</td>\n",
              "      <td>68.0</td>\n",
              "      <td>89.0</td>\n",
              "      <td>1600000.0</td>\n",
              "      <td>121.0</td>\n",
              "      <td>2</td>\n",
              "      <td>328.0</td>\n",
              "      <td>400000</td>\n",
              "      <td>1</td>\n",
              "      <td>0</td>\n",
              "      <td>0</td>\n",
              "      <td>1</td>\n",
              "      <td>0</td>\n",
              "      <td>0</td>\n",
              "      <td>1</td>\n",
              "      <td>0</td>\n",
              "      <td>0</td>\n",
              "      <td>0</td>\n",
              "      <td>0</td>\n",
              "      <td>1</td>\n",
              "      <td>0</td>\n",
              "      <td>0</td>\n",
              "      <td>0</td>\n",
              "      <td>0</td>\n",
              "      <td>0</td>\n",
              "      <td>1</td>\n",
              "      <td>0</td>\n",
              "      <td>0</td>\n",
              "      <td>0</td>\n",
              "      <td>0</td>\n",
              "      <td>1</td>\n",
              "      <td>0</td>\n",
              "      <td>0</td>\n",
              "      <td>0</td>\n",
              "      <td>0</td>\n",
              "      <td>0</td>\n",
              "      <td>0</td>\n",
              "      <td>1</td>\n",
              "      <td>0</td>\n",
              "      <td>1</td>\n",
              "      <td>0</td>\n",
              "      <td>0</td>\n",
              "    </tr>\n",
              "    <tr>\n",
              "      <th>2</th>\n",
              "      <td>19</td>\n",
              "      <td>6</td>\n",
              "      <td>40</td>\n",
              "      <td>1.0</td>\n",
              "      <td>13</td>\n",
              "      <td>0</td>\n",
              "      <td>416.000000</td>\n",
              "      <td>1.0</td>\n",
              "      <td>137.0</td>\n",
              "      <td>43.0</td>\n",
              "      <td>77.0</td>\n",
              "      <td>3400000.0</td>\n",
              "      <td>124.0</td>\n",
              "      <td>2</td>\n",
              "      <td>213.0</td>\n",
              "      <td>900000</td>\n",
              "      <td>1</td>\n",
              "      <td>0</td>\n",
              "      <td>1</td>\n",
              "      <td>0</td>\n",
              "      <td>0</td>\n",
              "      <td>1</td>\n",
              "      <td>0</td>\n",
              "      <td>0</td>\n",
              "      <td>1</td>\n",
              "      <td>0</td>\n",
              "      <td>0</td>\n",
              "      <td>0</td>\n",
              "      <td>0</td>\n",
              "      <td>0</td>\n",
              "      <td>0</td>\n",
              "      <td>0</td>\n",
              "      <td>0</td>\n",
              "      <td>0</td>\n",
              "      <td>0</td>\n",
              "      <td>1</td>\n",
              "      <td>0</td>\n",
              "      <td>0</td>\n",
              "      <td>1</td>\n",
              "      <td>0</td>\n",
              "      <td>0</td>\n",
              "      <td>0</td>\n",
              "      <td>1</td>\n",
              "      <td>0</td>\n",
              "      <td>0</td>\n",
              "      <td>0</td>\n",
              "      <td>0</td>\n",
              "      <td>0</td>\n",
              "      <td>0</td>\n",
              "      <td>1</td>\n",
              "    </tr>\n",
              "    <tr>\n",
              "      <th>3</th>\n",
              "      <td>33</td>\n",
              "      <td>7</td>\n",
              "      <td>27</td>\n",
              "      <td>1.0</td>\n",
              "      <td>9</td>\n",
              "      <td>0</td>\n",
              "      <td>410.000000</td>\n",
              "      <td>1.0</td>\n",
              "      <td>167.0</td>\n",
              "      <td>60.0</td>\n",
              "      <td>64.0</td>\n",
              "      <td>700000.0</td>\n",
              "      <td>98.0</td>\n",
              "      <td>2</td>\n",
              "      <td>275.0</td>\n",
              "      <td>2300000</td>\n",
              "      <td>1</td>\n",
              "      <td>0</td>\n",
              "      <td>0</td>\n",
              "      <td>1</td>\n",
              "      <td>1</td>\n",
              "      <td>0</td>\n",
              "      <td>0</td>\n",
              "      <td>0</td>\n",
              "      <td>0</td>\n",
              "      <td>0</td>\n",
              "      <td>1</td>\n",
              "      <td>0</td>\n",
              "      <td>0</td>\n",
              "      <td>0</td>\n",
              "      <td>0</td>\n",
              "      <td>0</td>\n",
              "      <td>0</td>\n",
              "      <td>0</td>\n",
              "      <td>1</td>\n",
              "      <td>0</td>\n",
              "      <td>0</td>\n",
              "      <td>0</td>\n",
              "      <td>1</td>\n",
              "      <td>0</td>\n",
              "      <td>0</td>\n",
              "      <td>0</td>\n",
              "      <td>0</td>\n",
              "      <td>0</td>\n",
              "      <td>1</td>\n",
              "      <td>0</td>\n",
              "      <td>1</td>\n",
              "      <td>0</td>\n",
              "      <td>0</td>\n",
              "      <td>0</td>\n",
              "    </tr>\n",
              "    <tr>\n",
              "      <th>4</th>\n",
              "      <td>23</td>\n",
              "      <td>7</td>\n",
              "      <td>32</td>\n",
              "      <td>2.0</td>\n",
              "      <td>7</td>\n",
              "      <td>0</td>\n",
              "      <td>390.000000</td>\n",
              "      <td>1.0</td>\n",
              "      <td>153.0</td>\n",
              "      <td>64.0</td>\n",
              "      <td>71.0</td>\n",
              "      <td>3200000.0</td>\n",
              "      <td>21.0</td>\n",
              "      <td>2</td>\n",
              "      <td>331.0</td>\n",
              "      <td>1100000</td>\n",
              "      <td>1</td>\n",
              "      <td>0</td>\n",
              "      <td>1</td>\n",
              "      <td>0</td>\n",
              "      <td>1</td>\n",
              "      <td>0</td>\n",
              "      <td>0</td>\n",
              "      <td>0</td>\n",
              "      <td>0</td>\n",
              "      <td>0</td>\n",
              "      <td>0</td>\n",
              "      <td>0</td>\n",
              "      <td>0</td>\n",
              "      <td>1</td>\n",
              "      <td>0</td>\n",
              "      <td>0</td>\n",
              "      <td>0</td>\n",
              "      <td>0</td>\n",
              "      <td>0</td>\n",
              "      <td>0</td>\n",
              "      <td>1</td>\n",
              "      <td>0</td>\n",
              "      <td>1</td>\n",
              "      <td>0</td>\n",
              "      <td>0</td>\n",
              "      <td>0</td>\n",
              "      <td>0</td>\n",
              "      <td>1</td>\n",
              "      <td>0</td>\n",
              "      <td>0</td>\n",
              "      <td>0</td>\n",
              "      <td>1</td>\n",
              "      <td>0</td>\n",
              "      <td>0</td>\n",
              "    </tr>\n",
              "  </tbody>\n",
              "</table>\n",
              "</div>"
            ],
            "text/plain": [
              "   Age  Blood Glucose  ...  comorbidity_Hypertension  comorbidity_None\n",
              "0   68              7  ...                         1                 0\n",
              "1   64              6  ...                         0                 0\n",
              "2   19              6  ...                         0                 1\n",
              "3   33              7  ...                         0                 0\n",
              "4   23              7  ...                         0                 0\n",
              "\n",
              "[5 rows x 50 columns]"
            ]
          },
          "metadata": {
            "tags": []
          },
          "execution_count": 27
        }
      ]
    },
    {
      "cell_type": "code",
      "metadata": {
        "id": "0AEkCvclR5BA",
        "colab_type": "code",
        "colab": {}
      },
      "source": [
        "x_train, x_test, Y_train, Y_test = train_test_split(X,y_train, test_size=0.1, random_state =42)\n"
      ],
      "execution_count": 0,
      "outputs": []
    },
    {
      "cell_type": "code",
      "metadata": {
        "id": "WKO3OonZR5JT",
        "colab_type": "code",
        "outputId": "afd79d9b-5f76-4e84-c06b-f1a05a413100",
        "colab": {
          "base_uri": "https://localhost:8080/",
          "height": 52
        }
      },
      "source": [
        "LR = RandomForestRegressor()\n",
        "LR.fit(x_train, Y_train)\n",
        "yhat_LR = LR.predict(x_test)\n",
        "score_LR = mean_squared_error(Y_test,yhat_LR)\n",
        "r2_LR = r2_score(Y_test,yhat_LR)\n",
        "print(score_LR)\n",
        "print(r2_LR)"
      ],
      "execution_count": 29,
      "outputs": [
        {
          "output_type": "stream",
          "text": [
            "92.44274319645444\n",
            "0.2727901450236856\n"
          ],
          "name": "stdout"
        }
      ]
    },
    {
      "cell_type": "code",
      "metadata": {
        "id": "rL_QCIqO6JV4",
        "colab_type": "code",
        "colab": {
          "base_uri": "https://localhost:8080/",
          "height": 295
        },
        "outputId": "7ba67a9d-063d-4c92-f6b6-416d968e9022"
      },
      "source": [
        "features = train.columns\n",
        "importances = LR.feature_importances_\n",
        "indices = np.argsort(importances)\n",
        "plt.title('Feature Importances')\n",
        "plt.barh(range(len(indices)), importances[indices], color='b', align='center')\n",
        "plt.yticks(range(len(indices)), [features[i] for i in indices])\n",
        "plt.xlabel('Relative Importance')\n",
        "plt.show()"
      ],
      "execution_count": 30,
      "outputs": [
        {
          "output_type": "display_data",
          "data": {
            "image/png": "[encoded data removed]",
            "text/plain": [
              "<Figure size 432x288 with 1 Axes>"
            ]
          },
          "metadata": {
            "tags": []
          }
        }
      ]
    },
    {
      "cell_type": "code",
      "metadata": {
        "id": "c3dyGMMWR5Q5",
        "colab_type": "code",
        "outputId": "6ae8f093-ead7-4363-cce5-4a8f4e976a0d",
        "colab": {
          "base_uri": "https://localhost:8080/",
          "height": 34
        }
      },
      "source": [
        "lasso = Lasso()\n",
        "lasso.fit(x_train, Y_train)\n",
        "yhat_lasso = lasso.predict(x_test)\n",
        "score_lasso = mean_squared_error(Y_test,yhat_LR)\n",
        "print(score_lasso)\n"
      ],
      "execution_count": 31,
      "outputs": [
        {
          "output_type": "stream",
          "text": [
            "92.44274319645444\n"
          ],
          "name": "stdout"
        }
      ]
    },
    {
      "cell_type": "code",
      "metadata": {
        "id": "TFyIZQ3nR5em",
        "colab_type": "code",
        "colab": {
          "base_uri": "https://localhost:8080/",
          "height": 52
        },
        "outputId": "58898529-aeb2-4ac6-b4e0-b201c87017b3"
      },
      "source": [
        "model_xgb = xgb.XGBRegressor(n_estimators=360, max_depth=2, learning_rate=0.1) #the params were tuned using xgb.cv\n",
        "model_xgb.fit(x_train, Y_train)\n",
        "yhat_xgb = model_xgb.predict(x_test)\n",
        "score_xgb = mean_squared_error(Y_test, yhat_xgb)\n",
        "print(score_xgb)\n"
      ],
      "execution_count": 32,
      "outputs": [
        {
          "output_type": "stream",
          "text": [
            "[10:20:02] WARNING: /workspace/src/objective/regression_obj.cu:152: reg:linear is now deprecated in favor of reg:squarederror.\n",
            "91.27118249843593\n"
          ],
          "name": "stdout"
        }
      ]
    },
    {
      "cell_type": "code",
      "metadata": {
        "id": "SdsEyEQ2R5lY",
        "colab_type": "code",
        "colab": {
          "base_uri": "https://localhost:8080/",
          "height": 81
        },
        "outputId": "4f16333e-d149-43de-c78c-464e3f2109f9"
      },
      "source": [
        "from keras.layers import Dense\n",
        "from keras.models import Sequential\n",
        "from keras.regularizers import l1"
      ],
      "execution_count": 33,
      "outputs": [
        {
          "output_type": "stream",
          "text": [
            "Using TensorFlow backend.\n"
          ],
          "name": "stderr"
        },
        {
          "output_type": "display_data",
          "data": {
            "text/html": [
              "<p style=\"color: red;\">\n",
              "The default version of TensorFlow in Colab will soon switch to TensorFlow 2.x.<br>\n",
              "We recommend you <a href=\"https://www.tensorflow.org/guide/migrate\" target=\"_blank\">upgrade</a> now \n",
              "or ensure your notebook will continue to use TensorFlow 1.x via the <code>%tensorflow_version 1.x</code> magic:\n",
              "<a href=\"https://colab.research.google.com/notebooks/tensorflow_version.ipynb\" target=\"_blank\">more info</a>.</p>\n"
            ],
            "text/plain": [
              "<IPython.core.display.HTML object>"
            ]
          },
          "metadata": {
            "tags": []
          }
        }
      ]
    },
    {
      "cell_type": "code",
      "metadata": {
        "id": "_R4Rm8SXR5q4",
        "colab_type": "code",
        "colab": {
          "base_uri": "https://localhost:8080/",
          "height": 424
        },
        "outputId": "f2cc5bae-b9a0-45db-b202-bf8b9dd0aea1"
      },
      "source": [
        "model = Sequential()\n",
        "model.add(Dense(256, activation=\"relu\", input_dim = x_train.shape[1]))\n",
        "model.add(Dense(1, input_dim = x_train.shape[1], W_regularizer=l1(0.001)))\n",
        "\n",
        "model.compile(loss = \"mse\", optimizer = \"adam\")\n",
        "model.summary()"
      ],
      "execution_count": 34,
      "outputs": [
        {
          "output_type": "stream",
          "text": [
            "WARNING:tensorflow:From /usr/local/lib/python3.6/dist-packages/keras/backend/tensorflow_backend.py:66: The name tf.get_default_graph is deprecated. Please use tf.compat.v1.get_default_graph instead.\n",
            "\n",
            "WARNING:tensorflow:From /usr/local/lib/python3.6/dist-packages/keras/backend/tensorflow_backend.py:541: The name tf.placeholder is deprecated. Please use tf.compat.v1.placeholder instead.\n",
            "\n",
            "WARNING:tensorflow:From /usr/local/lib/python3.6/dist-packages/keras/backend/tensorflow_backend.py:4432: The name tf.random_uniform is deprecated. Please use tf.random.uniform instead.\n",
            "\n",
            "WARNING:tensorflow:From /usr/local/lib/python3.6/dist-packages/keras/optimizers.py:793: The name tf.train.Optimizer is deprecated. Please use tf.compat.v1.train.Optimizer instead.\n",
            "\n",
            "Model: \"sequential_1\"\n",
            "_________________________________________________________________\n",
            "Layer (type)                 Output Shape              Param #   \n",
            "=================================================================\n",
            "dense_1 (Dense)              (None, 256)               13056     \n",
            "_________________________________________________________________\n",
            "dense_2 (Dense)              (None, 1)                 257       \n",
            "=================================================================\n",
            "Total params: 13,313\n",
            "Trainable params: 13,313\n",
            "Non-trainable params: 0\n",
            "_________________________________________________________________\n"
          ],
          "name": "stdout"
        },
        {
          "output_type": "stream",
          "text": [
            "/usr/local/lib/python3.6/dist-packages/ipykernel_launcher.py:3: UserWarning: Update your `Dense` call to the Keras 2 API: `Dense(1, input_dim=50, kernel_regularizer=<keras.reg...)`\n",
            "  This is separate from the ipykernel package so we can avoid doing imports until\n"
          ],
          "name": "stderr"
        }
      ]
    },
    {
      "cell_type": "code",
      "metadata": {
        "id": "7psWA-TFR5w8",
        "colab_type": "code",
        "colab": {
          "base_uri": "https://localhost:8080/",
          "height": 864
        },
        "outputId": "d0aa78ba-724d-4259-ceed-d6adf533287d"
      },
      "source": [
        "hist = model.fit(x_train, Y_train, validation_data = (x_test, Y_test),epochs=15)\n"
      ],
      "execution_count": 35,
      "outputs": [
        {
          "output_type": "stream",
          "text": [
            "WARNING:tensorflow:From /usr/local/lib/python3.6/dist-packages/keras/backend/tensorflow_backend.py:1033: The name tf.assign_add is deprecated. Please use tf.compat.v1.assign_add instead.\n",
            "\n",
            "WARNING:tensorflow:From /usr/local/lib/python3.6/dist-packages/keras/backend/tensorflow_backend.py:1020: The name tf.assign is deprecated. Please use tf.compat.v1.assign instead.\n",
            "\n",
            "WARNING:tensorflow:From /usr/local/lib/python3.6/dist-packages/keras/backend/tensorflow_backend.py:3005: The name tf.Session is deprecated. Please use tf.compat.v1.Session instead.\n",
            "\n",
            "Train on 9642 samples, validate on 1072 samples\n",
            "Epoch 1/15\n",
            "WARNING:tensorflow:From /usr/local/lib/python3.6/dist-packages/keras/backend/tensorflow_backend.py:190: The name tf.get_default_session is deprecated. Please use tf.compat.v1.get_default_session instead.\n",
            "\n",
            "WARNING:tensorflow:From /usr/local/lib/python3.6/dist-packages/keras/backend/tensorflow_backend.py:197: The name tf.ConfigProto is deprecated. Please use tf.compat.v1.ConfigProto instead.\n",
            "\n",
            "WARNING:tensorflow:From /usr/local/lib/python3.6/dist-packages/keras/backend/tensorflow_backend.py:207: The name tf.global_variables is deprecated. Please use tf.compat.v1.global_variables instead.\n",
            "\n",
            "WARNING:tensorflow:From /usr/local/lib/python3.6/dist-packages/keras/backend/tensorflow_backend.py:216: The name tf.is_variable_initialized is deprecated. Please use tf.compat.v1.is_variable_initialized instead.\n",
            "\n",
            "WARNING:tensorflow:From /usr/local/lib/python3.6/dist-packages/keras/backend/tensorflow_backend.py:223: The name tf.variables_initializer is deprecated. Please use tf.compat.v1.variables_initializer instead.\n",
            "\n",
            "9642/9642 [==============================] - 9s 921us/step - loss: 1194.3477 - val_loss: 107.7421\n",
            "Epoch 2/15\n",
            "9642/9642 [==============================] - 1s 88us/step - loss: 83.2744 - val_loss: 96.8469\n",
            "Epoch 3/15\n",
            "9642/9642 [==============================] - 1s 90us/step - loss: 79.0359 - val_loss: 96.1522\n",
            "Epoch 4/15\n",
            "9642/9642 [==============================] - 1s 86us/step - loss: 77.1694 - val_loss: 95.6713\n",
            "Epoch 5/15\n",
            "9642/9642 [==============================] - 1s 72us/step - loss: 75.8089 - val_loss: 94.3192\n",
            "Epoch 6/15\n",
            "9642/9642 [==============================] - 1s 86us/step - loss: 74.4371 - val_loss: 95.7064\n",
            "Epoch 7/15\n",
            "9642/9642 [==============================] - 1s 89us/step - loss: 73.8162 - val_loss: 95.9394\n",
            "Epoch 8/15\n",
            "9642/9642 [==============================] - 1s 82us/step - loss: 72.4701 - val_loss: 95.4648\n",
            "Epoch 9/15\n",
            "9642/9642 [==============================] - 1s 85us/step - loss: 72.3889 - val_loss: 95.0949\n",
            "Epoch 10/15\n",
            "9642/9642 [==============================] - 1s 86us/step - loss: 71.6159 - val_loss: 94.9721\n",
            "Epoch 11/15\n",
            "9642/9642 [==============================] - 1s 80us/step - loss: 70.9300 - val_loss: 95.1987\n",
            "Epoch 12/15\n",
            "9642/9642 [==============================] - 1s 83us/step - loss: 70.2981 - val_loss: 96.4838\n",
            "Epoch 13/15\n",
            "9642/9642 [==============================] - 1s 76us/step - loss: 69.6711 - val_loss: 95.7914\n",
            "Epoch 14/15\n",
            "9642/9642 [==============================] - 1s 79us/step - loss: 68.9921 - val_loss: 96.1384\n",
            "Epoch 15/15\n",
            "9642/9642 [==============================] - 1s 90us/step - loss: 68.5714 - val_loss: 96.5754\n"
          ],
          "name": "stdout"
        }
      ]
    },
    {
      "cell_type": "code",
      "metadata": {
        "id": "IMd_SeqlLVG2",
        "colab_type": "code",
        "colab": {
          "base_uri": "https://localhost:8080/",
          "height": 34
        },
        "outputId": "8e194253-4b22-4e2b-f0fa-fd70203d9973"
      },
      "source": [
        "yhat_dl = model.predict(x_test)\n",
        "print(mean_squared_error(Y_test, yhat_dl))\n"
      ],
      "execution_count": 36,
      "outputs": [
        {
          "output_type": "stream",
          "text": [
            "96.50820921249128\n"
          ],
          "name": "stdout"
        }
      ]
    },
    {
      "cell_type": "markdown",
      "metadata": {
        "id": "ivH0N3ylwEV5",
        "colab_type": "text"
      },
      "source": [
        "**Best accuracy is achieved by XGBoostRegressor\n",
        "So, we'll use it for final predictions**"
      ]
    },
    {
      "cell_type": "code",
      "metadata": {
        "id": "QG_WlvQ9wvTw",
        "colab_type": "code",
        "colab": {
          "base_uri": "https://localhost:8080/",
          "height": 34
        },
        "outputId": "9ffe4b9c-8e08-48b8-e7f0-6e9ae2a98fe6"
      },
      "source": [
        "test = pd.get_dummies(test)\n",
        "print(test.shape)"
      ],
      "execution_count": 37,
      "outputs": [
        {
          "output_type": "stream",
          "text": [
            "(14498, 50)\n"
          ],
          "name": "stdout"
        }
      ]
    },
    {
      "cell_type": "code",
      "metadata": {
        "id": "OtzQUEfIwvW1",
        "colab_type": "code",
        "colab": {}
      },
      "source": [
        "X_test = np.array(test)\n",
        "X = StandardScaler().fit(X_test).transform(X_test)"
      ],
      "execution_count": 0,
      "outputs": []
    },
    {
      "cell_type": "code",
      "metadata": {
        "id": "IBZHwxKcLVD-",
        "colab_type": "code",
        "colab": {}
      },
      "source": [
        "submission = pd.DataFrame()\n",
        "submission['people_ID'] = test_ID\n",
        "submission['Infect_Prob'] = model_xgb.predict(X)"
      ],
      "execution_count": 0,
      "outputs": []
    },
    {
      "cell_type": "code",
      "metadata": {
        "id": "C64mI4PDZ5UC",
        "colab_type": "code",
        "colab": {}
      },
      "source": [
        "submission.to_csv('submission.csv',index=False)\n"
      ],
      "execution_count": 0,
      "outputs": []
    },
    {
      "cell_type": "code",
      "metadata": {
        "id": "M5_84EiQc_0V",
        "colab_type": "code",
        "colab": {}
      },
      "source": [
        ""
      ],
      "execution_count": 0,
      "outputs": []
    }
  ]
}